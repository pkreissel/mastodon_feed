{
 "cells": [
  {
   "cell_type": "code",
   "execution_count": 3,
   "metadata": {},
   "outputs": [],
   "source": [
    "from mastodon import Mastodon\n",
    "import pandas as pd\n",
    "mastodon = Mastodon(\n",
    "    access_token = '', # from settings/applications make application + get token\n",
    "    api_base_url = '' # e.g. 'https://chaos.social'\n",
    ")"
   ]
  },
  {
   "cell_type": "code",
   "execution_count": 88,
   "metadata": {},
   "outputs": [
    {
     "name": "stdout",
     "output_type": "stream",
     "text": [
      "40\n"
     ]
    }
   ],
   "source": [
    "home_timeline = mastodon.timeline_home(limit = 40)"
   ]
  },
  {
   "cell_type": "code",
   "execution_count": 18,
   "metadata": {},
   "outputs": [],
   "source": [
    "account_activity = mastodon.fetch_remaining(mastodon.account_statuses(mastodon.me().id, limit=40))"
   ]
  },
  {
   "cell_type": "code",
   "execution_count": 34,
   "metadata": {},
   "outputs": [],
   "source": [
    "account_favourites = mastodon.fetch_remaining(mastodon.favourites(limit = 40))"
   ]
  },
  {
   "cell_type": "code",
   "execution_count": 93,
   "metadata": {},
   "outputs": [],
   "source": [
    "account_activity_count = pd.json_normalize(account_activity)[\"reblog.account.username\"].value_counts()"
   ]
  },
  {
   "cell_type": "code",
   "execution_count": 130,
   "metadata": {},
   "outputs": [],
   "source": [
    "featured_tag_count = pd.json_normalize(mastodon.featured_tag_suggestions()).set_index(\"name\").apply(lambda x: x[\"history\"][0][\"uses\"], axis=1).sort_values(ascending=False)"
   ]
  },
  {
   "cell_type": "code",
   "execution_count": 64,
   "metadata": {},
   "outputs": [],
   "source": [
    "favourite_counts = pd.json_normalize(account_favourites)[\"account.username\"].value_counts()"
   ]
  },
  {
   "cell_type": "code",
   "execution_count": 90,
   "metadata": {},
   "outputs": [],
   "source": [
    "home_timeline_df = pd.json_normalize(home_timeline)"
   ]
  },
  {
   "cell_type": "code",
   "execution_count": 95,
   "metadata": {},
   "outputs": [],
   "source": [
    "def extract_count_feature(row, count_series: pd.Series):\n",
    "    if not \"account.username\" in row:\n",
    "        return 0\n",
    "    if row[\"account.username\"] in count_series:\n",
    "        return count_series[row[\"account.username\"]]\n",
    "    else:\n",
    "        return 0\n",
    "\n",
    "def extract_like_feature(row):\n",
    "    return extract_count_feature(row, favourite_counts)\n",
    "\n",
    "def extract_activity_feature(row):\n",
    "    return extract_count_feature(row, account_activity_count)\n",
    "\n",
    "\n"
   ]
  },
  {
   "cell_type": "code",
   "execution_count": 96,
   "metadata": {},
   "outputs": [],
   "source": [
    "home_timeline_df[\"like_feature\"] = home_timeline_df.apply(extract_like_feature, axis=1)\n",
    "home_timeline_df[\"activity_feature\"] = home_timeline_df.apply(extract_activity_feature, axis=1)"
   ]
  },
  {
   "cell_type": "code",
   "execution_count": null,
   "metadata": {},
   "outputs": [],
   "source": [
    "from IPython.display import display, HTML\n",
    "home_timeline_df[\"score\"] = home_timeline_df[\"like_feature\"] + home_timeline_df[\"activity_feature\"]\n",
    "home_timeline_df.sort_values(\"score\", ascending=False).head(40).apply(lambda x: \n",
    "    display(HTML(\n",
    "        f\"<b>{x['account.username']}<b>\" \n",
    "        + x.content \n",
    "        + str(\" \".join(pd.Series(x['media_attachments']).apply(lambda x: f\"<br><img src='{x['preview_url']}'/>\" if \"preview_url\" in x else \"\").to_list()))\n",
    "        + (x['url'] if x['url'] is not None else \"\")\n",
    "    )), axis=1)"
   ]
  }
 ],
 "metadata": {
  "kernelspec": {
   "display_name": "Python 3",
   "language": "python",
   "name": "python3"
  },
  "language_info": {
   "codemirror_mode": {
    "name": "ipython",
    "version": 3
   },
   "file_extension": ".py",
   "mimetype": "text/x-python",
   "name": "python",
   "nbconvert_exporter": "python",
   "pygments_lexer": "ipython3",
   "version": "3.10.8"
  },
  "orig_nbformat": 4,
  "vscode": {
   "interpreter": {
    "hash": "8f9328efe3468e6c370cdfed98702d3986faf748314d5bcec59da615d65baa7a"
   }
  }
 },
 "nbformat": 4,
 "nbformat_minor": 2
}
